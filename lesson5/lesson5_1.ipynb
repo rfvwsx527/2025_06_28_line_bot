{
 "cells": [
  {
   "cell_type": "code",
   "execution_count": null,
   "id": "11711891",
   "metadata": {},
   "outputs": [
    {
     "name": "stdout",
     "output_type": "stream",
     "text": [
      "💬 AI 回應：\n",
      "{'model': 'gemma3:1b', 'created_at': '2025-07-26T03:47:25.523776525Z', 'response': '{\\n\"簡潔解釋\": \"Python 的函式就像是程式碼的指令，它們會做一些特定的事情，像是計算、讀取資料、顯示訊息等等。 你可以把它想像成一個小小的程式，可以重複執行幾次，完成一個任務。\",\\n\"例子\": \"假設你想讓程式計算一個數字：你就可以寫一個函式來計算這個數字，然後程式就可以執行這個函式，並計算出結果。\",\\n\"重點\": \"函式需要寫好，並且有一個名稱，並且可以跟其他的函式或程式執行，來完成一個特定的工作。\"\\n}', 'done': True, 'done_reason': 'stop', 'context': [105, 2364, 107, 239230, 237105, 74624, 48280, 185411, 26549, 237026, 32651, 236918, 238780, 237522, 237536, 106, 107, 105, 4368, 107, 236782, 107, 236775, 239309, 241910, 185411, 1083, 623, 32651, 10363, 238780, 237522, 55326, 237026, 47972, 240897, 236918, 81582, 236900, 162576, 238003, 237893, 18303, 172612, 25606, 236900, 95714, 44068, 236951, 240588, 237653, 41368, 236951, 105832, 203984, 54971, 236924, 43758, 5157, 91033, 103146, 237283, 19966, 237369, 74517, 47972, 236900, 5157, 174322, 78204, 239903, 237609, 236900, 19843, 19966, 152807, 69079, 107, 236775, 69954, 1083, 623, 206402, 143206, 239301, 47972, 44068, 19966, 210921, 237184, 237408, 35134, 240564, 19966, 238780, 237522, 237967, 44068, 17161, 210921, 236900, 42888, 47972, 35134, 78204, 17161, 238780, 237522, 236900, 238953, 44068, 237191, 27654, 69079, 107, 236775, 173229, 1083, 623, 238780, 237522, 10042, 240564, 237389, 236900, 116256, 134408, 119406, 236900, 116256, 5157, 238517, 117969, 238780, 237522, 237800, 47972, 78204, 236900, 237967, 19843, 19966, 172612, 11700, 165220, 107, 236783], 'total_duration': 24264069589, 'load_duration': 10333938522, 'prompt_eval_count': 21, 'prompt_eval_duration': 755683847, 'eval_count': 129, 'eval_duration': 12811829217}\n",
      "{\n",
      "\"簡潔解釋\": \"Python 的函式就像是程式碼的指令，它們會做一些特定的事情，像是計算、讀取資料、顯示訊息等等。 你可以把它想像成一個小小的程式，可以重複執行幾次，完成一個任務。\",\n",
      "\"例子\": \"假設你想讓程式計算一個數字：你就可以寫一個函式來計算這個數字，然後程式就可以執行這個函式，並計算出結果。\",\n",
      "\"重點\": \"函式需要寫好，並且有一個名稱，並且可以跟其他的函式或程式執行，來完成一個特定的工作。\"\n",
      "}\n"
     ]
    }
   ],
   "source": [
    "import requests\n",
    "\n",
    "def chat_with_ollama(prompt: str):\n",
    "    url = \"http://localhost:11434/api/generate\"\n",
    "    payload = {\n",
    "        \"model\": \"gemma3:1b\",\n",
    "        \"prompt\": prompt,\n",
    "        \"stream\": False,\n",
    "        \"options\": { #參考說明1\n",
    "            \"temperature\": 0.7,\n",
    "            \"top_p\": 0.9,\n",
    "            \"top_k\": 50,\n",
    "        },\n",
    "        \"max_tokens\": 100,\n",
    "        \"format\": \"json\",\n",
    "    }\n",
    "\n",
    "    response = requests.post(url, json=payload)\n",
    "    result = response.json()\n",
    "    print(\"💬 AI 回應：\")\n",
    "    # Print the whole result for debugging\n",
    "    print(result)\n",
    "    # Try to print the 'response' key if it exists, otherwise print possible keys\n",
    "    if \"response\" in result:\n",
    "        print(result[\"response\"])\n",
    "    elif \"message\" in result:\n",
    "        print(result[\"message\"])\n",
    "    elif \"content\" in result:\n",
    "        print(result[\"content\"])\n",
    "    else:\n",
    "        print(\"No expected key found in response. Available keys:\", result.keys())\n",
    "\n",
    "#範例輸入\n",
    "chat_with_ollama(\"請用簡單的方式解釋什麼是Python的函式？\")"
   ]
  }
 ],
 "metadata": {
  "kernelspec": {
   "display_name": "linebot",
   "language": "python",
   "name": "python3"
  },
  "language_info": {
   "codemirror_mode": {
    "name": "ipython",
    "version": 3
   },
   "file_extension": ".py",
   "mimetype": "text/x-python",
   "name": "python",
   "nbconvert_exporter": "python",
   "pygments_lexer": "ipython3",
   "version": "3.12.11"
  }
 },
 "nbformat": 4,
 "nbformat_minor": 5
}
