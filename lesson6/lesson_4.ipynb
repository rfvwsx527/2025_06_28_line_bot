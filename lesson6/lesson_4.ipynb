{
 "cells": [
  {
   "cell_type": "code",
   "execution_count": 7,
   "id": "27ddcf85",
   "metadata": {},
   "outputs": [
    {
     "name": "stdout",
     "output_type": "stream",
     "text": [
      "===========AI回應==============\n"
     ]
    },
    {
     "data": {
      "text/markdown": [
       "想像一下，Python的函式就像是**工具箱裡的指令**。 \n",
       "\n",
       "以下是更簡單的解釋：\n",
       "\n",
       "* **函式是用來做特定任務的指令。** 比如說，計算一個數字，處理數據，還是顯示信息。\n",
       "* **你告訴函式要做什麼，函式會自動執行。** 就像你給畫畫機寫一個指令，它會根據你的指示畫出圖畫。\n",
       "* **函式可以接收一些輸入，並對它進行一些操作，然後輸出結果。** 比如你給畫畫機一張圖片，它會畫出你想要的效果。\n",
       "* **你也可以修改函式的指令，讓它做更多的事情。** 就像你不斷修改畫畫機的指令，讓它畫出不同的圖畫。\n",
       "\n",
       "**總之，Python函式就像是你可以重複使用的指令，讓程式碼更高效、更方便。**\n",
       "\n",
       "**簡單來說，程式碼就是函式，函式就是程式碼的工具。**\n",
       "\n",
       "希望這個解釋對你有幫助！\n"
      ],
      "text/plain": [
       "<IPython.core.display.Markdown object>"
      ]
     },
     "metadata": {},
     "output_type": "display_data"
    }
   ],
   "source": [
    "import requests\n",
    "#import pprint\n",
    "from pprint import pprint\n",
    "from IPython.display import Markdown, display\n",
    "\n",
    "def generate_with_ollama(prompt:str)->None:\n",
    "    url = \"http://localhost:11434/api/generate\"\n",
    "    payload = {\n",
    "        \"model\":\"gemma3:1b\",\n",
    "        \"prompt\":prompt,\n",
    "        \"stream\":False\n",
    "    }\n",
    "    response = requests.post(url,json=payload)\n",
    "    result = response.json()\n",
    "    #print(type(result))\n",
    "    #pprint(result)\n",
    "    print(\"===========AI回應==============\")\n",
    "    display(Markdown(result['response']))\n",
    "\n",
    "generate_with_ollama(\"請用簡單的方式解釋什麼是Python的函式？\")"
   ]
  }
 ],
 "metadata": {
  "kernelspec": {
   "display_name": "linebot",
   "language": "python",
   "name": "python3"
  },
  "language_info": {
   "codemirror_mode": {
    "name": "ipython",
    "version": 3
   },
   "file_extension": ".py",
   "mimetype": "text/x-python",
   "name": "python",
   "nbconvert_exporter": "python",
   "pygments_lexer": "ipython3",
   "version": "3.12.11"
  }
 },
 "nbformat": 4,
 "nbformat_minor": 5
}
