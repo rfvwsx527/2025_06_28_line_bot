{
 "cells": [
  {
   "cell_type": "code",
   "execution_count": 1,
   "id": "b5c74b86",
   "metadata": {},
   "outputs": [
    {
     "data": {
      "text/plain": [
       "('小明', 20, 175.5)"
      ]
     },
     "execution_count": 1,
     "metadata": {},
     "output_type": "execute_result"
    }
   ],
   "source": [
    "# 變數（Variable）\n",
    "name = \"小明\"\n",
    "age = 20\n",
    "height = 175.5\n",
    "\n",
    "name, age, height #這是tuple"
   ]
  },
  {
   "cell_type": "code",
   "execution_count": 2,
   "id": "a0f15a93",
   "metadata": {},
   "outputs": [
    {
     "name": "stdout",
     "output_type": "stream",
     "text": [
      "<class 'list'>\n",
      "水果清單: ['蘋果', '香蕉', '橘子']\n",
      "第一個水果: 蘋果\n",
      "反轉後的水果清單: ['橘子', '香蕉', '蘋果']\n"
     ]
    }
   ],
   "source": [
    "fruits = [\"蘋果\", \"香蕉\", \"橘子\"]\n",
    "print(type(fruits))\n",
    "print(\"水果清單:\", fruits)\n",
    "print(\"第一個水果:\", fruits[0])\n",
    "fruits.reverse()  # 反轉清單\n",
    "print(\"反轉後的水果清單:\", fruits)"
   ]
  }
 ],
 "metadata": {
  "kernelspec": {
   "display_name": "linebot",
   "language": "python",
   "name": "python3"
  },
  "language_info": {
   "codemirror_mode": {
    "name": "ipython",
    "version": 3
   },
   "file_extension": ".py",
   "mimetype": "text/x-python",
   "name": "python",
   "nbconvert_exporter": "python",
   "pygments_lexer": "ipython3",
   "version": "3.12.11"
  }
 },
 "nbformat": 4,
 "nbformat_minor": 5
}
