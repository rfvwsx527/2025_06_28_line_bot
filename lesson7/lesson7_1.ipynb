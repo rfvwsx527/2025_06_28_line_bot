{
 "cells": [
  {
   "cell_type": "code",
   "execution_count": null,
   "id": "433a8869",
   "metadata": {},
   "outputs": [],
   "source": []
  }
 ],
 "metadata": {
  "kernelspec": {
   "display_name": "linebot",
   "language": "python",
   "name": "python3"
  },
  "language_info": {
   "name": "python",
   "version": "3.12.11"
  }
 },
 "nbformat": 4,
 "nbformat_minor": 5
}
