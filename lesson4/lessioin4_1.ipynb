{
 "cells": [
  {
   "cell_type": "markdown",
   "id": "c4f9e822",
   "metadata": {},
   "source": [
    "## python儲存資料\n",
    "- 變數\n",
    "- list\n",
    "- dict"
   ]
  },
  {
   "cell_type": "code",
   "execution_count": null,
   "id": "0708fe94",
   "metadata": {},
   "outputs": [
    {
     "name": "stdout",
     "output_type": "stream",
     "text": [
      "變數\n"
     ]
    }
   ],
   "source": [
    "print('變數')\n",
    "name = 'Python'\n",
    "print('變數內容:', name )\n",
    "print('變數類型:', type(name))\n",
    "print('變數長度:', len(name))"
   ]
  }
 ],
 "metadata": {
  "kernelspec": {
   "display_name": "linebot",
   "language": "python",
   "name": "python3"
  },
  "language_info": {
   "codemirror_mode": {
    "name": "ipython",
    "version": 3
   },
   "file_extension": ".py",
   "mimetype": "text/x-python",
   "name": "python",
   "nbconvert_exporter": "python",
   "pygments_lexer": "ipython3",
   "version": "3.12.11"
  }
 },
 "nbformat": 4,
 "nbformat_minor": 5
}
